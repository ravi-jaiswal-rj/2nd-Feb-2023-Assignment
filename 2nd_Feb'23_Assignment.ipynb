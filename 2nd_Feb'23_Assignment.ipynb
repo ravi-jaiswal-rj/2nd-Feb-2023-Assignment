{
  "nbformat": 4,
  "nbformat_minor": 0,
  "metadata": {
    "colab": {
      "provenance": []
    },
    "kernelspec": {
      "name": "python3",
      "display_name": "Python 3"
    },
    "language_info": {
      "name": "python"
    }
  },
  "cells": [
    {
      "cell_type": "markdown",
      "source": [
        "Assignment - **2nd** **Feb 2023** \n",
        "\n",
        "\n",
        "Questions and Solutions.\n",
        "\n",
        "Q1.  **Explain with an example each when to use a for loop and a while loop.**\n"
      ],
      "metadata": {
        "id": "wJb4Z-ccUpAu"
      }
    },
    {
      "cell_type": "markdown",
      "source": [
        "**Ans :-For Loop: A for loop is an iteration method that is best used when you know the number of iterations ahead of time. It’s always followed by the initialization, expression and increment statements."
      ],
      "metadata": {
        "id": "bUIAcU53XQWK"
      }
    },
    {
      "cell_type": "code",
      "source": [
        "# Example :-\n",
        "\n",
        "for i in range(10):\n",
        "  print(i)"
      ],
      "metadata": {
        "colab": {
          "base_uri": "https://localhost:8080/"
        },
        "id": "EH2kVHkwYKuz",
        "outputId": "88e7ee9b-5d41-4c20-9b58-d30c36625942"
      },
      "execution_count": null,
      "outputs": [
        {
          "output_type": "stream",
          "name": "stdout",
          "text": [
            "0\n",
            "1\n",
            "2\n",
            "3\n",
            "4\n",
            "5\n",
            "6\n",
            "7\n",
            "8\n",
            "9\n"
          ]
        }
      ]
    },
    {
      "cell_type": "markdown",
      "source": [
        "While **Loop**: A while loop is an iteration method that is best used when you don't know the number of iterations ahead of time. The contents of the loop are executed as long as the expression evaluates to true.\n"
      ],
      "metadata": {
        "id": "ru0meam4fFv3"
      }
    },
    {
      "cell_type": "code",
      "source": [
        "# Example :-\n",
        "\n",
        "i = 0\n",
        "while i <= 10:\n",
        "  print(i)\n",
        "  i+=1"
      ],
      "metadata": {
        "colab": {
          "base_uri": "https://localhost:8080/"
        },
        "id": "Aoy2v7oCcxMR",
        "outputId": "8b92b4d6-7e7e-4888-f8fe-cb382545abe8"
      },
      "execution_count": null,
      "outputs": [
        {
          "output_type": "stream",
          "name": "stdout",
          "text": [
            "0\n",
            "1\n",
            "2\n",
            "3\n",
            "4\n",
            "5\n",
            "6\n",
            "7\n",
            "8\n",
            "9\n",
            "10\n"
          ]
        }
      ]
    },
    {
      "cell_type": "code",
      "source": [],
      "metadata": {
        "id": "x4SQCSNdd5L5"
      },
      "execution_count": null,
      "outputs": []
    },
    {
      "cell_type": "markdown",
      "source": [
        "**Q2.  Write a python program to print the sum and product of the first 10 natural numbers using for\n",
        "and while loop.**"
      ],
      "metadata": {
        "id": "5GdHoCYIf1wr"
      }
    },
    {
      "cell_type": "markdown",
      "source": [
        "Ans:- **By** **For** **Loop** :- "
      ],
      "metadata": {
        "id": "Ua0DOG6HgHzj"
      }
    },
    {
      "cell_type": "code",
      "source": [
        "## Sum and Product of the first 10 natural numbers by using For Loop.\n",
        "l = [1,2,3,4,5,6,7,8,9,10]\n",
        "\n",
        "sum = 0\n",
        "product = 1\n",
        "for i in l:\n",
        "  sum = sum + i\n",
        "  product = product * i\n",
        "\n",
        "print(sum)\n",
        "\n",
        "print(product)"
      ],
      "metadata": {
        "colab": {
          "base_uri": "https://localhost:8080/"
        },
        "id": "anWtllsaf68E",
        "outputId": "4f084a63-f4ce-4b10-a481-d815048deaf8"
      },
      "execution_count": null,
      "outputs": [
        {
          "output_type": "stream",
          "name": "stdout",
          "text": [
            "55\n",
            "3628800\n"
          ]
        }
      ]
    },
    {
      "cell_type": "markdown",
      "source": [
        " **By While Loop** :-"
      ],
      "metadata": {
        "id": "isoIJ2ZQmmg-"
      }
    },
    {
      "cell_type": "code",
      "source": [
        "## Sum and Product of the first 10 natural numbers by using While Loop.\n",
        "\n",
        "sum = 0\n",
        "product = 1\n",
        "\n",
        "i = 1\n",
        "while i <= 10:\n",
        "  sum = sum + i\n",
        "  product = product * i\n",
        "  i += 1\n",
        "\n",
        "sum"
      ],
      "metadata": {
        "colab": {
          "base_uri": "https://localhost:8080/"
        },
        "id": "yqwUGMN8hga9",
        "outputId": "762027b9-3374-4826-e3e9-4f7f602f99d8"
      },
      "execution_count": null,
      "outputs": [
        {
          "output_type": "execute_result",
          "data": {
            "text/plain": [
              "55"
            ]
          },
          "metadata": {},
          "execution_count": 26
        }
      ]
    },
    {
      "cell_type": "code",
      "source": [
        "product"
      ],
      "metadata": {
        "colab": {
          "base_uri": "https://localhost:8080/"
        },
        "id": "12KTAdLskhCv",
        "outputId": "223ed751-5dd0-4da7-805a-e605a4e9fe3d"
      },
      "execution_count": null,
      "outputs": [
        {
          "output_type": "execute_result",
          "data": {
            "text/plain": [
              "3628800"
            ]
          },
          "metadata": {},
          "execution_count": 27
        }
      ]
    },
    {
      "cell_type": "markdown",
      "source": [
        "**Q3. Create a python program to compute the electricity bill for a household.**\n",
        "\n",
        "The per-unit charges in rupees are as follows: For the first 100 units, the user will be charged Rs. 4.5 per\n",
        "unit, for the next 100 units, the user will be charged Rs. 6 per unit, and for the next 100 units, the user will\n",
        "be charged Rs. 10 per unit, After 300 units and above the user will be charged Rs. 20 per unit.\n",
        "\n",
        "\n",
        "You are required to take the units of electricity consumed in a month from the user as input.\n",
        "\n",
        "\n",
        "Your program must pass this test case: when the unit of electricity consumed by the user in a month is\n",
        "310, the total electricity bill should be 2250."
      ],
      "metadata": {
        "id": "hMjn_0calReD"
      }
    },
    {
      "cell_type": "markdown",
      "source": [
        "**Ans** **:-**"
      ],
      "metadata": {
        "id": "3EJi0ak4nJmZ"
      }
    },
    {
      "cell_type": "code",
      "source": [
        "n = int(input(\"The units of electricity is :- \"))\n",
        "\n",
        "if n <= 100:\n",
        "  print(n*4.5)\n",
        "\n",
        "\n",
        "elif n > 100:\n",
        "  a = 100 * 4.5\n",
        "  b = 100 * 6\n",
        "  c = 100 * 10\n",
        "\n",
        "  if n <= 200:\n",
        "    n = n - 100\n",
        "    print(n * 6 + a)\n",
        "    \n",
        "  elif n <= 300:\n",
        "    if n <= 300:\n",
        "      n = n - 200\n",
        "      print(n * 10 + a + b)\n",
        "\n",
        "  elif n > 300:\n",
        "    n = n - 300\n",
        "    print(n * 20 + a + b + c )\n"
      ],
      "metadata": {
        "colab": {
          "base_uri": "https://localhost:8080/"
        },
        "id": "idy-B6dn5ajn",
        "outputId": "d3c0d55f-d816-4be6-d20e-db420288c0e6"
      },
      "execution_count": null,
      "outputs": [
        {
          "output_type": "stream",
          "name": "stdout",
          "text": [
            "The units of electricity is :- 310\n",
            "2250.0\n"
          ]
        }
      ]
    },
    {
      "cell_type": "markdown",
      "source": [
        "**Q4. Create a list of numbers from 1 to 100. Use for loop and while loop to calculate the cube of each\n",
        "number and if the cube of that number is divisible by 4 or 5 then append that number in a list and print\n",
        "that list.**"
      ],
      "metadata": {
        "id": "4fQRaour2wSR"
      }
    },
    {
      "cell_type": "markdown",
      "source": [
        "Ans :-"
      ],
      "metadata": {
        "id": "mzjpmPiD3DyR"
      }
    },
    {
      "cell_type": "code",
      "source": [
        "# Creating a list l of numbers from 1 to 100.\n",
        "\n",
        "l = []\n",
        "for i in range(1,101):\n",
        "  l.append(i)"
      ],
      "metadata": {
        "id": "KCSbk0AW-c_n"
      },
      "execution_count": 43,
      "outputs": []
    },
    {
      "cell_type": "code",
      "source": [
        "# By Using For Loop.\n",
        "\n",
        "l1 = []\n",
        "for i in l:\n",
        "  l1.append(i**3)\n",
        "l2 = []\n",
        "for i in l1:\n",
        "  if i%4 == 0 or i%5 == 0:\n",
        "    l2.append(i)\n",
        "\n",
        "l2"
      ],
      "metadata": {
        "colab": {
          "base_uri": "https://localhost:8080/"
        },
        "id": "cjIhO3rW-_vJ",
        "outputId": "d6c9b8a9-e87c-4c21-e2cd-e9383d2250b0"
      },
      "execution_count": 54,
      "outputs": [
        {
          "output_type": "execute_result",
          "data": {
            "text/plain": [
              "[8,\n",
              " 64,\n",
              " 125,\n",
              " 216,\n",
              " 512,\n",
              " 1000,\n",
              " 1728,\n",
              " 2744,\n",
              " 3375,\n",
              " 4096,\n",
              " 5832,\n",
              " 8000,\n",
              " 10648,\n",
              " 13824,\n",
              " 15625,\n",
              " 17576,\n",
              " 21952,\n",
              " 27000,\n",
              " 32768,\n",
              " 39304,\n",
              " 42875,\n",
              " 46656,\n",
              " 54872,\n",
              " 64000,\n",
              " 74088,\n",
              " 85184,\n",
              " 91125,\n",
              " 97336,\n",
              " 110592,\n",
              " 125000,\n",
              " 140608,\n",
              " 157464,\n",
              " 166375,\n",
              " 175616,\n",
              " 195112,\n",
              " 216000,\n",
              " 238328,\n",
              " 262144,\n",
              " 274625,\n",
              " 287496,\n",
              " 314432,\n",
              " 343000,\n",
              " 373248,\n",
              " 405224,\n",
              " 421875,\n",
              " 438976,\n",
              " 474552,\n",
              " 512000,\n",
              " 551368,\n",
              " 592704,\n",
              " 614125,\n",
              " 636056,\n",
              " 681472,\n",
              " 729000,\n",
              " 778688,\n",
              " 830584,\n",
              " 857375,\n",
              " 884736,\n",
              " 941192,\n",
              " 1000000]"
            ]
          },
          "metadata": {},
          "execution_count": 54
        }
      ]
    },
    {
      "cell_type": "code",
      "source": [
        "# By Using While Loop.\n",
        "i = 1\n",
        "l3 = []\n",
        "while i <= 100:\n",
        "  d = i**3\n",
        "  if d % 4 == 0 or d % 5 ==0:\n",
        "    l3.append(d)\n",
        "  i += 1\n",
        "l3  "
      ],
      "metadata": {
        "colab": {
          "base_uri": "https://localhost:8080/"
        },
        "id": "ZirI8IlDFRCn",
        "outputId": "03763b5c-9858-4216-f899-7974dd81094d"
      },
      "execution_count": 7,
      "outputs": [
        {
          "output_type": "execute_result",
          "data": {
            "text/plain": [
              "[8,\n",
              " 64,\n",
              " 125,\n",
              " 216,\n",
              " 512,\n",
              " 1000,\n",
              " 1728,\n",
              " 2744,\n",
              " 3375,\n",
              " 4096,\n",
              " 5832,\n",
              " 8000,\n",
              " 10648,\n",
              " 13824,\n",
              " 15625,\n",
              " 17576,\n",
              " 21952,\n",
              " 27000,\n",
              " 32768,\n",
              " 39304,\n",
              " 42875,\n",
              " 46656,\n",
              " 54872,\n",
              " 64000,\n",
              " 74088,\n",
              " 85184,\n",
              " 91125,\n",
              " 97336,\n",
              " 110592,\n",
              " 125000,\n",
              " 140608,\n",
              " 157464,\n",
              " 166375,\n",
              " 175616,\n",
              " 195112,\n",
              " 216000,\n",
              " 238328,\n",
              " 262144,\n",
              " 274625,\n",
              " 287496,\n",
              " 314432,\n",
              " 343000,\n",
              " 373248,\n",
              " 405224,\n",
              " 421875,\n",
              " 438976,\n",
              " 474552,\n",
              " 512000,\n",
              " 551368,\n",
              " 592704,\n",
              " 614125,\n",
              " 636056,\n",
              " 681472,\n",
              " 729000,\n",
              " 778688,\n",
              " 830584,\n",
              " 857375,\n",
              " 884736,\n",
              " 941192,\n",
              " 1000000]"
            ]
          },
          "metadata": {},
          "execution_count": 7
        }
      ]
    },
    {
      "cell_type": "markdown",
      "source": [
        "** Q5.  Write a program to filter count vowels in the below-given string.\n",
        "\n",
        "string = \"I want to become a data scientist**"
      ],
      "metadata": {
        "id": "31RxDKV7S7lC"
      }
    },
    {
      "cell_type": "markdown",
      "source": [
        " Ans :- "
      ],
      "metadata": {
        "id": "C7gTp7mcTXvy"
      }
    },
    {
      "cell_type": "code",
      "source": [
        "string = \"I want to become a data scientist\"\n",
        "s = string.lower()\n",
        "s\n",
        "\n",
        "count = 0\n",
        "for i in s:\n",
        "  if i == \"a\" or i == \"e\" or i == \"i\" or i == \"o\" or i == \"u\":\n",
        "    count +=1\n",
        "    \n",
        "count"
      ],
      "metadata": {
        "colab": {
          "base_uri": "https://localhost:8080/"
        },
        "id": "sQIcv8UyTf5f",
        "outputId": "70466136-8a1c-47f7-da0d-db6e920b0dc5"
      },
      "execution_count": 10,
      "outputs": [
        {
          "output_type": "execute_result",
          "data": {
            "text/plain": [
              "12"
            ]
          },
          "metadata": {},
          "execution_count": 10
        }
      ]
    },
    {
      "cell_type": "code",
      "source": [],
      "metadata": {
        "id": "RpN_rvkVUwqN"
      },
      "execution_count": null,
      "outputs": []
    }
  ]
}